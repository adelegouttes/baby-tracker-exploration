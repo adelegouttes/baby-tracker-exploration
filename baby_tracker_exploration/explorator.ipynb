{
 "cells": [
  {
   "cell_type": "code",
   "execution_count": 5,
   "id": "ambient-fleece",
   "metadata": {
    "tags": [
     "hide-input"
    ]
   },
   "outputs": [
    {
     "data": {
      "application/vnd.jupyter.widget-view+json": {
       "model_id": "f31e7c51a5a0486fb43036132c14cf40",
       "version_major": 2,
       "version_minor": 0
      },
      "text/plain": [
       "interactive(children=(SelectionRangeSlider(description='Date Range:', index=(0, 2), layout=Layout(width='600px…"
      ]
     },
     "metadata": {},
     "output_type": "display_data"
    }
   ],
   "source": [
    "from datetime import datetime\n",
    "\n",
    "from ipywidgets import interact, widgets, fixed, Layout\n",
    "import pandas as pd\n",
    "import plotly.express as px\n",
    "\n",
    "from explorator import get_feeding_data, prepare_feeding_data, compute_daily_statistics, show_daily_statistics\n",
    "\n",
    "\n",
    "feeding_df = get_feeding_data()\n",
    "feeding_df = prepare_feeding_data(feeding_df)\n",
    "daily_statistics = compute_daily_statistics(feeding_df)\n",
    "\n",
    "\n",
    "min_date, max_date = daily_statistics.index.min(), daily_statistics.index.max()\n",
    "date_widget = widgets.SelectionRangeSlider(\n",
    "    options=[\"{:%Y/%m/%d}\".format(d) for d in pd.date_range(min_date, max_date)],\n",
    "    index=(0,2),\n",
    "    description='Date Range:',\n",
    "    disabled=False,\n",
    "    style={'description_width': 'initial'},\n",
    "    layout=Layout(width='600px'),\n",
    ")\n",
    "\n",
    "@interact(date_range=date_widget, df=fixed(daily_statistics), continuous_update=False)\n",
    "def print_graphs(date_range, df):\n",
    "    min_date, max_date = (datetime.strptime(d, \"%Y/%m/%d\").date() for d in date_range)\n",
    "    plot_df = df.loc[min_date:max_date]\n",
    "    show_daily_statistics(plot_df)"
   ]
  },
  {
   "cell_type": "code",
   "execution_count": null,
   "id": "developing-austria",
   "metadata": {},
   "outputs": [],
   "source": []
  }
 ],
 "metadata": {
  "celltoolbar": "Tags",
  "kernelspec": {
   "display_name": "baby-tracker-exploration",
   "language": "python",
   "name": "baby-tracker-exploration"
  },
  "language_info": {
   "codemirror_mode": {
    "name": "ipython",
    "version": 3
   },
   "file_extension": ".py",
   "mimetype": "text/x-python",
   "name": "python",
   "nbconvert_exporter": "python",
   "pygments_lexer": "ipython3",
   "version": "3.7.6"
  }
 },
 "nbformat": 4,
 "nbformat_minor": 5
}
