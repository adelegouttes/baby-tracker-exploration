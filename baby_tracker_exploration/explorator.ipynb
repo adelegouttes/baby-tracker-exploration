{
 "cells": [
  {
   "cell_type": "markdown",
   "id": "fuzzy-significance",
   "metadata": {},
   "source": [
    "# Explore your baby data\n",
    "\n",
    "### Steps: \n",
    "1. Load your CSV file somewhere accessible on your local machine, and change the variable `FILE_PATH` accordingly\n",
    "\n",
    "2. Run the rest of the notebook and play around with the date range widget and the nice plot interface (plotly)"
   ]
  },
  {
   "cell_type": "code",
   "execution_count": 1,
   "id": "likely-israeli",
   "metadata": {},
   "outputs": [],
   "source": [
    "from datetime import datetime\n",
    "\n",
    "from ipywidgets import interact, widgets, fixed, Layout\n",
    "import pandas as pd\n",
    "import plotly.express as px\n",
    "\n",
    "from explorator import (get_baby_tracker_data, \n",
    "                        prepare_feeding_data, \n",
    "                        compute_daily_statistics, \n",
    "                        compute_summary_statistics,\n",
    "                        show_daily_statistics,\n",
    "                       )\n",
    "from plots.widgets import generate_date_widget"
   ]
  },
  {
   "cell_type": "code",
   "execution_count": 2,
   "id": "homeless-guarantee",
   "metadata": {},
   "outputs": [
    {
     "name": "stdout",
     "output_type": "stream",
     "text": [
      "Check your file original content:\n"
     ]
    },
    {
     "data": {
      "text/html": [
       "<div>\n",
       "<style scoped>\n",
       "    .dataframe tbody tr th:only-of-type {\n",
       "        vertical-align: middle;\n",
       "    }\n",
       "\n",
       "    .dataframe tbody tr th {\n",
       "        vertical-align: top;\n",
       "    }\n",
       "\n",
       "    .dataframe thead th {\n",
       "        text-align: right;\n",
       "    }\n",
       "</style>\n",
       "<table border=\"1\" class=\"dataframe\">\n",
       "  <thead>\n",
       "    <tr style=\"text-align: right;\">\n",
       "      <th></th>\n",
       "      <th>RecordCategory</th>\n",
       "      <th>RecordSubCategory</th>\n",
       "      <th>StartDate</th>\n",
       "      <th>FinishDate</th>\n",
       "      <th>Details</th>\n",
       "    </tr>\n",
       "  </thead>\n",
       "  <tbody>\n",
       "    <tr>\n",
       "      <th>0</th>\n",
       "      <td>Leisure</td>\n",
       "      <td>Outdoors</td>\n",
       "      <td>2021-02-14 12:40:00</td>\n",
       "      <td>2021-02-14 13:24:00</td>\n",
       "      <td>NaN</td>\n",
       "    </tr>\n",
       "    <tr>\n",
       "      <th>1</th>\n",
       "      <td>Leisure</td>\n",
       "      <td>Tummy time</td>\n",
       "      <td>2021-02-14 12:10:00</td>\n",
       "      <td>2021-02-14 12:16:00</td>\n",
       "      <td>NaN</td>\n",
       "    </tr>\n",
       "    <tr>\n",
       "      <th>2</th>\n",
       "      <td>Diapering</td>\n",
       "      <td>Pee</td>\n",
       "      <td>2021-02-14 11:40:00</td>\n",
       "      <td>2021-02-14 11:40:00</td>\n",
       "      <td>NaN</td>\n",
       "    </tr>\n",
       "    <tr>\n",
       "      <th>3</th>\n",
       "      <td>Feeding</td>\n",
       "      <td>Left Breast</td>\n",
       "      <td>2021-02-14 11:24:00</td>\n",
       "      <td>2021-02-14 11:34:00</td>\n",
       "      <td>NaN</td>\n",
       "    </tr>\n",
       "    <tr>\n",
       "      <th>4</th>\n",
       "      <td>Feeding</td>\n",
       "      <td>Right Breast</td>\n",
       "      <td>2021-02-14 11:03:00</td>\n",
       "      <td>2021-02-14 11:15:00</td>\n",
       "      <td>NaN</td>\n",
       "    </tr>\n",
       "  </tbody>\n",
       "</table>\n",
       "</div>"
      ],
      "text/plain": [
       "  RecordCategory RecordSubCategory           StartDate          FinishDate  \\\n",
       "0        Leisure          Outdoors 2021-02-14 12:40:00 2021-02-14 13:24:00   \n",
       "1        Leisure        Tummy time 2021-02-14 12:10:00 2021-02-14 12:16:00   \n",
       "2      Diapering               Pee 2021-02-14 11:40:00 2021-02-14 11:40:00   \n",
       "3        Feeding       Left Breast 2021-02-14 11:24:00 2021-02-14 11:34:00   \n",
       "4        Feeding      Right Breast 2021-02-14 11:03:00 2021-02-14 11:15:00   \n",
       "\n",
       "  Details  \n",
       "0     NaN  \n",
       "1     NaN  \n",
       "2     NaN  \n",
       "3     NaN  \n",
       "4     NaN  "
      ]
     },
     "metadata": {},
     "output_type": "display_data"
    }
   ],
   "source": [
    "FILE_PATH = \"data/BabyRecords.csv\"\n",
    "\n",
    "main_df = get_baby_tracker_data(FILE_PATH)\n",
    "print(\"Check your file original content:\")\n",
    "display(main_df.head(5))"
   ]
  },
  {
   "cell_type": "code",
   "execution_count": 3,
   "id": "bearing-auction",
   "metadata": {
    "scrolled": false,
    "tags": [
     "hide-input"
    ]
   },
   "outputs": [
    {
     "data": {
      "application/vnd.jupyter.widget-view+json": {
       "model_id": "93f9e3172bda4faea300e53f581ba2b2",
       "version_major": 2,
       "version_minor": 0
      },
      "text/plain": [
       "interactive(children=(SelectionRangeSlider(description='Date Range:', index=(0, 2), layout=Layout(width='600px…"
      ]
     },
     "metadata": {},
     "output_type": "display_data"
    }
   ],
   "source": [
    "feeding_df = prepare_feeding_data(main_df)\n",
    "daily_statistics = compute_daily_statistics(feeding_df)\n",
    "\n",
    "date_widget = generate_date_widget(daily_statistics)\n",
    "\n",
    "@interact(date_range=date_widget, df=fixed(daily_statistics), continuous_update=False)\n",
    "def print_graphs(date_range, df):\n",
    "    min_date, max_date = (datetime.strptime(d, \"%Y/%m/%d\").date() for d in date_range)\n",
    "    plot_df = df.loc[min_date:max_date]\n",
    "    \n",
    "    statistics = compute_summary_statistics(plot_df)\n",
    "    display(statistics)\n",
    "    \n",
    "    figures = show_daily_statistics(plot_df)\n",
    "    \n",
    "    for fig in figures:\n",
    "        fig.show()"
   ]
  }
 ],
 "metadata": {
  "kernelspec": {
   "display_name": "baby-tracker-exploration",
   "language": "python",
   "name": "baby-tracker-exploration"
  },
  "language_info": {
   "codemirror_mode": {
    "name": "ipython",
    "version": 3
   },
   "file_extension": ".py",
   "mimetype": "text/x-python",
   "name": "python",
   "nbconvert_exporter": "python",
   "pygments_lexer": "ipython3",
   "version": "3.7.6"
  }
 },
 "nbformat": 4,
 "nbformat_minor": 5
}
